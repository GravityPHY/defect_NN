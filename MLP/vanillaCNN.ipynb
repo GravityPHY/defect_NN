{
 "cells": [
  {
   "cell_type": "code",
   "execution_count": 3,
   "outputs": [],
   "source": [
    "import torch\n",
    "from torch import nn\n",
    "from torch.utils.data import DataLoader\n",
    "from cluster_prop.cluster_calc import *"
   ],
   "metadata": {
    "collapsed": false,
    "pycharm": {
     "name": "#%%\n"
    }
   }
  },
  {
   "cell_type": "code",
   "execution_count": 4,
   "outputs": [],
   "source": [
    "import pandas as pd\n",
    "address = '../data/data_all.pkl'\n",
    "df = pd.read_pickle(address)\n",
    "df=df.drop(df[df['Defect Number']<3].index)\n"
   ],
   "metadata": {
    "collapsed": false,
    "pycharm": {
     "name": "#%%\n"
    }
   }
  },
  {
   "cell_type": "code",
   "execution_count": 5,
   "outputs": [
    {
     "data": {
      "text/plain": "Config Number                                                    53\nDefect Number                                                     4\nDefect Type                                                    subo\nObject            (Atom('Li', [0.0, 0.0, -0.14195291], index=0),...\nSurface Energy                                              8.52634\nName: 95, dtype: object"
     },
     "execution_count": 5,
     "metadata": {},
     "output_type": "execute_result"
    }
   ],
   "source": [
    "df.iloc[0]"
   ],
   "metadata": {
    "collapsed": false,
    "pycharm": {
     "name": "#%%\n"
    }
   }
  },
  {
   "cell_type": "code",
   "execution_count": 6,
   "outputs": [
    {
     "data": {
      "text/plain": "array([[ 1.68299174, 11.7809422 ],\n       [ 5.04897523,  1.68299174],\n       [ 5.04897523, 11.7809422 ],\n       [21.87889266, 21.87889266]])"
     },
     "execution_count": 6,
     "metadata": {},
     "output_type": "execute_result"
    }
   ],
   "source": [
    "find_surface_atom_pos(df.iloc[0]['Object'])"
   ],
   "metadata": {
    "collapsed": false,
    "pycharm": {
     "name": "#%%\n"
    }
   }
  },
  {
   "cell_type": "code",
   "execution_count": 2,
   "outputs": [],
   "source": [
    "class SimpleCNN(torch.nn.Module):\n",
    "   def __init__(self):\n",
    "      super(SimpleCNN, self).__init__()\n",
    "      #Input channels = 3, output channels = 8\n",
    "      self.conv1 = torch.nn.Conv2d(3, 8, kernel_size = 3, stride = 1, padding = 1)\n",
    "      self.pool = torch.nn.MaxPool2d(kernel_size = 2, stride = 2, padding = 0)\n",
    "      #4608 input features, 64 output features (see sizing flow below)\n",
    "      self.fc1 = torch.nn.Linear(8 * 16 * 16, 64)\n",
    "      #64 input features, 10 output features for our 10 defined classes\n",
    "      self.fc2 = torch.nn.Linear(64, 10)"
   ],
   "metadata": {
    "collapsed": false,
    "pycharm": {
     "name": "#%%\n"
    }
   }
  },
  {
   "cell_type": "code",
   "execution_count": 3,
   "outputs": [],
   "source": [
    "def forward(self, x):\n",
    "   x = F.relu(self.conv1(x))\n",
    "   x = self.pool(x)\n",
    "   x = x.view(-1, 18 * 16 *16)\n",
    "   x = F.relu(self.fc1(x))\n",
    "   #Computes the second fully connected layer (activation applied later)\n",
    "   #Size changes from (1, 64) to (1, 10)\n",
    "   x = self.fc2(x)\n",
    "   return(x)"
   ],
   "metadata": {
    "collapsed": false,
    "pycharm": {
     "name": "#%%\n"
    }
   }
  },
  {
   "cell_type": "code",
   "execution_count": null,
   "outputs": [],
   "source": [],
   "metadata": {
    "collapsed": false,
    "pycharm": {
     "name": "#%%\n"
    }
   }
  }
 ],
 "metadata": {
  "kernelspec": {
   "display_name": "Python 3",
   "language": "python",
   "name": "python3"
  },
  "language_info": {
   "codemirror_mode": {
    "name": "ipython",
    "version": 2
   },
   "file_extension": ".py",
   "mimetype": "text/x-python",
   "name": "python",
   "nbconvert_exporter": "python",
   "pygments_lexer": "ipython2",
   "version": "2.7.6"
  }
 },
 "nbformat": 4,
 "nbformat_minor": 0
}