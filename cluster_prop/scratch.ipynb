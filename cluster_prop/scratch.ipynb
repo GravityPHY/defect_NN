{
 "cells": [
  {
   "cell_type": "code",
   "execution_count": 1,
   "metadata": {
    "collapsed": true,
    "pycharm": {
     "name": "#%%\n"
    }
   },
   "outputs": [],
   "source": [
    "import pandas as pd\n",
    "from cluster_calc import *"
   ]
  },
  {
   "cell_type": "code",
   "execution_count": 2,
   "outputs": [],
   "source": [
    "address = '../data/data_all.pkl'\n",
    "df = pd.read_pickle(address)\n",
    "df=df.drop(df[df['Defect Number']<3].index)"
   ],
   "metadata": {
    "collapsed": false,
    "pycharm": {
     "name": "#%%\n"
    }
   }
  },
  {
   "cell_type": "code",
   "execution_count": 3,
   "outputs": [],
   "source": [
    "df_vac=df[df['Defect Type']=='vac']"
   ],
   "metadata": {
    "collapsed": false,
    "pycharm": {
     "name": "#%%\n"
    }
   }
  },
  {
   "cell_type": "code",
   "execution_count": 4,
   "outputs": [],
   "source": [
    "def to_feature(atom_obj):\n",
    "    return circle_radius(find_surface_atom_pos(atom_obj))\n",
    "df['cluster_radius']=df['Object'].apply(to_feature)"
   ],
   "metadata": {
    "collapsed": false,
    "pycharm": {
     "name": "#%%\n"
    }
   }
  },
  {
   "cell_type": "code",
   "execution_count": 5,
   "outputs": [],
   "source": [
    "df['cluster_feature']=df['Object'].apply(to_feature)"
   ],
   "metadata": {
    "collapsed": false,
    "pycharm": {
     "name": "#%%\n"
    }
   }
  },
  {
   "cell_type": "code",
   "execution_count": 36,
   "outputs": [
    {
     "data": {
      "text/plain": "(array([  14.,   24.,   80.,  220.,  518., 1283., 2129., 1886.,  675.,\n          75.]),\n array([1.83466155, 2.21220507, 2.58974859, 2.96729211, 3.34483563,\n        3.72237915, 4.09992267, 4.47746619, 4.85500971, 5.23255323,\n        5.61009675]),\n <BarContainer object of 10 artists>)"
     },
     "execution_count": 36,
     "metadata": {},
     "output_type": "execute_result"
    },
    {
     "data": {
      "text/plain": "<Figure size 432x288 with 1 Axes>",
      "image/png": "[encoded data removed]"
     },
     "metadata": {
      "needs_background": "light"
     },
     "output_type": "display_data"
    }
   ],
   "source": [
    "import matplotlib.pyplot as plt\n",
    "plt.hist(list(zip(*df.cluster_feature))[0])\n"
   ],
   "metadata": {
    "collapsed": false,
    "pycharm": {
     "name": "#%%\n"
    }
   }
  },
  {
   "cell_type": "code",
   "execution_count": 7,
   "outputs": [
    {
     "data": {
      "text/plain": "array([[ 4.207479, 14.305429],\n       [ 4.207479, 24.403379],\n       [17.671413, 14.305429],\n       [21.037397,  4.207479],\n       [21.037397, 21.037397]])"
     },
     "execution_count": 7,
     "metadata": {},
     "output_type": "execute_result"
    }
   ],
   "source": [
    "find_surface_atom_pos(df.iloc[6900]['Object'])"
   ],
   "metadata": {
    "collapsed": false,
    "pycharm": {
     "name": "#%%\n"
    }
   }
  },
  {
   "cell_type": "code",
   "execution_count": 4,
   "outputs": [
    {
     "name": "stderr",
     "output_type": "stream",
     "text": [
      "/var/folders/j5/vqcpn48s0jq47hcht8gnqngc0000gn/T/ipykernel_28341/1855709551.py:5: SettingWithCopyWarning: \n",
      "A value is trying to be set on a copy of a slice from a DataFrame.\n",
      "Try using .loc[row_indexer,col_indexer] = value instead\n",
      "\n",
      "See the caveats in the documentation: https://pandas.pydata.org/pandas-docs/stable/user_guide/indexing.html#returning-a-view-versus-a-copy\n",
      "  df_vac['cluster_feature']=df_vac['Object'].apply(vac_pos_to_feature)\n"
     ]
    }
   ],
   "source": [
    "def vac_pos_to_feature(atom_object):\n",
    "    z=find_vac_z(atom_object)\n",
    "    mask=(atom_object.positions[:,2]==z)\n",
    "    return circle_radius(atom_object.positions[mask,:])\n",
    "df_vac['cluster_feature']=df_vac['Object'].apply(vac_pos_to_feature)"
   ],
   "metadata": {
    "collapsed": false,
    "pycharm": {
     "name": "#%%\n"
    }
   }
  },
  {
   "cell_type": "code",
   "execution_count": 5,
   "outputs": [
    {
     "data": {
      "text/plain": "5999    (7.838511241506247, 61.442258483219796)\n6000    (7.754725211295182, 60.135763102697105)\n6001      (7.77354397858463, 60.42798598698936)\n6002      (7.84468270929806, 61.53904680955995)\n6003    (7.808072864495561, 60.966001857271905)\n                         ...                   \n6994     (7.750040831241931, 60.06313288591712)\n6995     (7.751988785325405, 60.09333012781084)\n6996     (7.717155351402099, 59.55448671767406)\n6997    (7.835184516715658, 61.390116410980774)\n6998     (7.734557496972168, 59.82337967396837)\nName: cluster_feature, Length: 1000, dtype: object"
     },
     "execution_count": 5,
     "metadata": {},
     "output_type": "execute_result"
    }
   ],
   "source": [
    "df_vac['cluster_feature']"
   ],
   "metadata": {
    "collapsed": false,
    "pycharm": {
     "name": "#%%\n"
    }
   }
  },
  {
   "cell_type": "code",
   "execution_count": 27,
   "outputs": [
    {
     "data": {
      "text/plain": "   Config Number  Defect Number  \\\n95            53              4   \n96           102              4   \n97            32              4   \n98           155              4   \n99            36              4   \n\n                                               Object  Surface Energy  \\\n95  (Atom('Li', [0.0, 0.0, -0.14195291], index=0),...         8.52634   \n96  (Atom('Li', [0.0, 0.0, -0.14195291], index=0),...         7.78872   \n97  (Atom('Li', [0.0, 0.0, -0.14195291], index=0),...         7.95204   \n98  (Atom('Li', [0.0, 0.0, -0.14195291], index=0),...         7.88893   \n99  (Atom('Li', [0.0, 0.0, -0.14195291], index=0),...         8.56998   \n\n    Defect Type_intc  Defect Type_intn  Defect Type_into  Defect Type_subc  \\\n95                 0                 0                 0                 0   \n96                 0                 0                 0                 0   \n97                 0                 0                 0                 0   \n98                 0                 0                 0                 0   \n99                 0                 0                 0                 0   \n\n    Defect Type_subn  Defect Type_subo  Defect Type_vac  \n95                 0                 1                0  \n96                 0                 1                0  \n97                 0                 1                0  \n98                 0                 1                0  \n99                 0                 1                0  ",
      "text/html": "<div>\n<style scoped>\n    .dataframe tbody tr th:only-of-type {\n        vertical-align: middle;\n    }\n\n    .dataframe tbody tr th {\n        vertical-align: top;\n    }\n\n    .dataframe thead th {\n        text-align: right;\n    }\n</style>\n<table border=\"1\" class=\"dataframe\">\n  <thead>\n    <tr style=\"text-align: right;\">\n      <th></th>\n      <th>Config Number</th>\n      <th>Defect Number</th>\n      <th>Object</th>\n      <th>Surface Energy</th>\n      <th>Defect Type_intc</th>\n      <th>Defect Type_intn</th>\n      <th>Defect Type_into</th>\n      <th>Defect Type_subc</th>\n      <th>Defect Type_subn</th>\n      <th>Defect Type_subo</th>\n      <th>Defect Type_vac</th>\n    </tr>\n  </thead>\n  <tbody>\n    <tr>\n      <th>95</th>\n      <td>53</td>\n      <td>4</td>\n      <td>(Atom('Li', [0.0, 0.0, -0.14195291], index=0),...</td>\n      <td>8.52634</td>\n      <td>0</td>\n      <td>0</td>\n      <td>0</td>\n      <td>0</td>\n      <td>0</td>\n      <td>1</td>\n      <td>0</td>\n    </tr>\n    <tr>\n      <th>96</th>\n      <td>102</td>\n      <td>4</td>\n      <td>(Atom('Li', [0.0, 0.0, -0.14195291], index=0),...</td>\n      <td>7.78872</td>\n      <td>0</td>\n      <td>0</td>\n      <td>0</td>\n      <td>0</td>\n      <td>0</td>\n      <td>1</td>\n      <td>0</td>\n    </tr>\n    <tr>\n      <th>97</th>\n      <td>32</td>\n      <td>4</td>\n      <td>(Atom('Li', [0.0, 0.0, -0.14195291], index=0),...</td>\n      <td>7.95204</td>\n      <td>0</td>\n      <td>0</td>\n      <td>0</td>\n      <td>0</td>\n      <td>0</td>\n      <td>1</td>\n      <td>0</td>\n    </tr>\n    <tr>\n      <th>98</th>\n      <td>155</td>\n      <td>4</td>\n      <td>(Atom('Li', [0.0, 0.0, -0.14195291], index=0),...</td>\n      <td>7.88893</td>\n      <td>0</td>\n      <td>0</td>\n      <td>0</td>\n      <td>0</td>\n      <td>0</td>\n      <td>1</td>\n      <td>0</td>\n    </tr>\n    <tr>\n      <th>99</th>\n      <td>36</td>\n      <td>4</td>\n      <td>(Atom('Li', [0.0, 0.0, -0.14195291], index=0),...</td>\n      <td>8.56998</td>\n      <td>0</td>\n      <td>0</td>\n      <td>0</td>\n      <td>0</td>\n      <td>0</td>\n      <td>1</td>\n      <td>0</td>\n    </tr>\n  </tbody>\n</table>\n</div>"
     },
     "execution_count": 27,
     "metadata": {},
     "output_type": "execute_result"
    }
   ],
   "source": [
    "df_vac\n",
    "pd.get_dummies(df, columns=[\"Defect Type\"]).head()"
   ],
   "metadata": {
    "collapsed": false,
    "pycharm": {
     "name": "#%%\n"
    }
   }
  },
  {
   "cell_type": "code",
   "execution_count": 4,
   "outputs": [
    {
     "data": {
      "text/plain": "Atoms(symbols='Li635', pbc=True, cell=[26.9278678896, 26.9278678896, 26.8299179077])"
     },
     "execution_count": 4,
     "metadata": {},
     "output_type": "execute_result"
    }
   ],
   "source": [
    "df_vac.iloc[-1]['Object']"
   ],
   "metadata": {
    "collapsed": false,
    "pycharm": {
     "name": "#%%\n"
    }
   }
  },
  {
   "cell_type": "code",
   "execution_count": null,
   "outputs": [],
   "source": [
    "def vac_pos_to_feature(atom_object):\n",
    "    z=find_vac_z(atom_object)\n",
    "    mask=(atom_object.positions[:,2]==z)\n",
    "    atom_object.positions[mask,:]\n",
    "    vac_pos(atom_object)\n",
    "    circle_radius(vac_pos(atom_object))"
   ],
   "metadata": {
    "collapsed": false,
    "pycharm": {
     "name": "#%%\n"
    }
   }
  },
  {
   "cell_type": "code",
   "execution_count": 5,
   "outputs": [],
   "source": [
    "z=find_vac_z(df_vac.iloc[-1]['Object'])"
   ],
   "metadata": {
    "collapsed": false,
    "pycharm": {
     "name": "#%%\n"
    }
   }
  },
  {
   "cell_type": "code",
   "execution_count": 11,
   "outputs": [
    {
     "data": {
      "text/plain": "array([[ 1.68299174,  1.68299174, 15.28887135],\n       [ 1.68299174,  5.04897523, 15.28887135],\n       [ 1.68299174,  8.41495872, 15.28887135],\n       [ 1.68299174, 11.7809422 , 15.28887135],\n       [ 1.68299174, 15.14692569, 15.28887135],\n       [ 1.68299174, 18.51290917, 15.28887135],\n       [ 1.68299174, 21.87889266, 15.28887135],\n       [ 1.68299174, 25.24487615, 15.28887135],\n       [ 5.04897523,  1.68299174, 15.28887135],\n       [ 5.04897523,  5.04897523, 15.28887135],\n       [ 5.04897523,  8.41495872, 15.28887135],\n       [ 5.04897523, 11.7809422 , 15.28887135],\n       [ 5.04897523, 15.14692569, 15.28887135],\n       [ 5.04897523, 18.51290917, 15.28887135],\n       [ 5.04897523, 21.87889266, 15.28887135],\n       [ 5.04897523, 25.24487615, 15.28887135],\n       [ 8.41495872,  1.68299174, 15.28887135],\n       [ 8.41495872,  5.04897523, 15.28887135],\n       [ 8.41495872,  8.41495872, 15.28887135],\n       [ 8.41495872, 11.7809422 , 15.28887135],\n       [ 8.41495872, 15.14692569, 15.28887135],\n       [ 8.41495872, 18.51290917, 15.28887135],\n       [ 8.41495872, 21.87889266, 15.28887135],\n       [ 8.41495872, 25.24487615, 15.28887135],\n       [11.7809422 ,  1.68299174, 15.28887135],\n       [11.7809422 ,  5.04897523, 15.28887135],\n       [11.7809422 ,  8.41495872, 15.28887135],\n       [11.7809422 , 11.7809422 , 15.28887135],\n       [11.7809422 , 15.14692569, 15.28887135],\n       [11.7809422 , 21.87889266, 15.28887135],\n       [11.7809422 , 25.24487615, 15.28887135],\n       [15.14692569,  1.68299174, 15.28887135],\n       [15.14692569,  5.04897523, 15.28887135],\n       [15.14692569,  8.41495872, 15.28887135],\n       [15.14692569, 11.7809422 , 15.28887135],\n       [15.14692569, 15.14692569, 15.28887135],\n       [15.14692569, 18.51290917, 15.28887135],\n       [15.14692569, 21.87889266, 15.28887135],\n       [15.14692569, 25.24487615, 15.28887135],\n       [18.51290917,  8.41495872, 15.28887135],\n       [18.51290917, 11.7809422 , 15.28887135],\n       [18.51290917, 15.14692569, 15.28887135],\n       [18.51290917, 18.51290917, 15.28887135],\n       [18.51290917, 21.87889266, 15.28887135],\n       [18.51290917, 25.24487615, 15.28887135],\n       [21.87889266,  1.68299174, 15.28887135],\n       [21.87889266,  5.04897523, 15.28887135],\n       [21.87889266,  8.41495872, 15.28887135],\n       [21.87889266, 11.7809422 , 15.28887135],\n       [21.87889266, 15.14692569, 15.28887135],\n       [21.87889266, 18.51290917, 15.28887135],\n       [21.87889266, 25.24487615, 15.28887135],\n       [25.24487615,  1.68299174, 15.28887135],\n       [25.24487615,  5.04897523, 15.28887135],\n       [25.24487615,  8.41495872, 15.28887135],\n       [25.24487615, 15.14692569, 15.28887135],\n       [25.24487615, 18.51290917, 15.28887135],\n       [25.24487615, 21.87889266, 15.28887135],\n       [25.24487615, 25.24487615, 15.28887135]])"
     },
     "execution_count": 11,
     "metadata": {},
     "output_type": "execute_result"
    }
   ],
   "source": [
    "mask = (df_vac.iloc[-1]['Object'].positions[:, 2] == z)\n",
    "df_vac.iloc[-1]['Object'].positions[mask, :]\n",
    "#grid=[]\n",
    "#for i in df_vac.iloc[-1]['Object'].positions:\n",
    "#    if i[2]==z:\n",
    "#        grid.append(i)"
   ],
   "metadata": {
    "collapsed": false,
    "pycharm": {
     "name": "#%%\n"
    }
   }
  },
  {
   "cell_type": "code",
   "execution_count": 12,
   "outputs": [
    {
     "data": {
      "text/plain": "array([[10.939446, 17.671413],\n       [17.671413,  0.841496],\n       [17.671413,  4.207479],\n       [21.037397, 21.037397],\n       [24.403379, 10.939446]])"
     },
     "execution_count": 12,
     "metadata": {},
     "output_type": "execute_result"
    }
   ],
   "source": [
    "vac_pos(df_vac.iloc[-1]['Object'].positions[mask, :])"
   ],
   "metadata": {
    "collapsed": false,
    "pycharm": {
     "name": "#%%\n"
    }
   }
  },
  {
   "cell_type": "code",
   "execution_count": 9,
   "outputs": [
    {
     "data": {
      "text/plain": "array([[10.939446, 17.671413],\n       [17.671413,  0.841496],\n       [17.671413,  4.207479],\n       [21.037397, 21.037397],\n       [24.403379, 10.939446]])"
     },
     "execution_count": 9,
     "metadata": {},
     "output_type": "execute_result"
    }
   ],
   "source": [
    "vac_pos(grid)"
   ],
   "metadata": {
    "collapsed": false,
    "pycharm": {
     "name": "#%%\n"
    }
   }
  },
  {
   "cell_type": "code",
   "execution_count": 10,
   "outputs": [
    {
     "data": {
      "text/plain": "(4.145157427093128, 17.182330095385325)"
     },
     "execution_count": 10,
     "metadata": {},
     "output_type": "execute_result"
    }
   ],
   "source": [
    "circle_radius(vac_pos(grid))"
   ],
   "metadata": {
    "collapsed": false,
    "pycharm": {
     "name": "#%%\n"
    }
   }
  },
  {
   "cell_type": "code",
   "execution_count": null,
   "outputs": [],
   "source": [],
   "metadata": {
    "collapsed": false,
    "pycharm": {
     "name": "#%%\n"
    }
   }
  }
 ],
 "metadata": {
  "kernelspec": {
   "display_name": "Python 3",
   "language": "python",
   "name": "python3"
  },
  "language_info": {
   "codemirror_mode": {
    "name": "ipython",
    "version": 2
   },
   "file_extension": ".py",
   "mimetype": "text/x-python",
   "name": "python",
   "nbconvert_exporter": "python",
   "pygments_lexer": "ipython2",
   "version": "2.7.6"
  }
 },
 "nbformat": 4,
 "nbformat_minor": 0
}